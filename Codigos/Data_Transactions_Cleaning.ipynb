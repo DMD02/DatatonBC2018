{
 "cells": [
  {
   "cell_type": "markdown",
   "metadata": {},
   "source": [
    "# Limpieza Datos de las Transacciones\n",
    "#### JJD-Predictors"
   ]
  },
  {
   "cell_type": "markdown",
   "metadata": {},
   "source": [
    "### Lectura y Adecuación de los datos."
   ]
  },
  {
   "cell_type": "markdown",
   "metadata": {},
   "source": [
    "Lectura de los datos correspondientes a las transacciones como un DataFrame usando la librería pandas"
   ]
  },
  {
   "cell_type": "code",
   "execution_count": 1,
   "metadata": {
    "collapsed": true
   },
   "outputs": [],
   "source": [
    "import pandas as pd\n",
    "import numpy as np\n",
    "import matplotlib.pyplot as plt\n",
    "import re\n",
    "from unicodedata import normalize\n",
    "\n",
    "%matplotlib inline\n",
    "\n",
    "metada_transactions = pd.read_excel(\"Metadatos_Tabla2.xlsx\")\n",
    "data_transactions = pd.read_csv(\"dt_trxpse_personas_2016_2018_muestra_adjt.csv\", error_bad_lines = False, warn_bad_lines = False,\n",
    "                                names=range(0,12))"
   ]
  },
  {
   "cell_type": "markdown",
   "metadata": {},
   "source": [
    "Creación de un diccionario con el nombre de las columnas en el archivo **Metadatos_Tabla2.xlsx** para asignar al DataFrame. Se encontró que los datos poseen algunos una segunda descripción, por ende se agregó una nueva columna llamada descripcion2."
   ]
  },
  {
   "cell_type": "code",
   "execution_count": 2,
   "metadata": {
    "collapsed": true
   },
   "outputs": [],
   "source": [
    "dict_header = dict()\n",
    "list_header = list(metada_transactions.name)\n",
    "for i,element in enumerate(list_header):\n",
    "    dict_header[i] = element\n",
    "    \n",
    "data_transactions = data_transactions.rename(columns = dict_header)"
   ]
  },
  {
   "cell_type": "markdown",
   "metadata": {},
   "source": [
    "Conversión de la columna fecha al tipo de dato respectivo con la función de pandas *to_datetime*."
   ]
  },
  {
   "cell_type": "code",
   "execution_count": 3,
   "metadata": {
    "collapsed": true
   },
   "outputs": [],
   "source": [
    "data_transactions[\"fecha\"] = pd.to_datetime(data_transactions[\"fecha\"], format=\"%Y%m%d\", errors = 'ignore')"
   ]
  },
  {
   "cell_type": "markdown",
   "metadata": {},
   "source": [
    "Al observar los datos correspondientes a la hora se observa que hay decimales con menos de seis dígitos, por ende se completan estos valores con ceros al inicio. Por otra parte, observando que la columna *ref3* solo contiene valores nulos se elimina del conjunto de datos. "
   ]
  },
  {
   "cell_type": "code",
   "execution_count": 4,
   "metadata": {
    "collapsed": true
   },
   "outputs": [],
   "source": [
    "data_transactions[\"hora\"] = data_transactions[\"hora\"].astype('str')\n",
    "data_transactions[\"hora\"] = data_transactions[\"hora\"].apply(lambda x : '0'*(6 - len(x)) + x)\n",
    "data_transactions[\"hora\"] = data_transactions[\"hora\"].apply(lambda x : x[:2] + \":\" + x[2:4])\n",
    "data_transactions = data_transactions.drop([\"ref3\"], axis = 1)"
   ]
  },
  {
   "cell_type": "markdown",
   "metadata": {},
   "source": [
    "A cada columna de acuerdo a los datos que contiene se le asigna el tipo de dato correspondiente.  "
   ]
  },
  {
   "cell_type": "code",
   "execution_count": null,
   "metadata": {
    "collapsed": true
   },
   "outputs": [],
   "source": [
    "data_transactions[\"id_cliente\"] = data_transactions.id_cliente.astype('int',  errors = 'ignore')\n",
    "data_transactions[\"valor_trx\"] = data_transactions[\"valor_trx\"].astype('float64', errors = 'ignore')\n",
    "data_transactions[\"ref1\"] = data_transactions[\"ref1\"].astype('str')\n",
    "data_transactions[\"ref2\"] = data_transactions[\"ref2\"].astype('str')\n",
    "data_transactions[\"sector\"] = data_transactions[\"sector\"].astype('str')\n",
    "data_transactions[\"subsector\"] = data_transactions[\"subsector\"].astype('str')\n",
    "data_transactions[\"descripcion\"] = data_transactions[\"descripcion\"].astype('str')\n",
    "data_transactions[\"descripcion2\"] = data_transactions[\"descripcion2\"].astype('str')"
   ]
  },
  {
   "cell_type": "markdown",
   "metadata": {},
   "source": [
    "Se reemplazan todos los valores que contienen '\\\\N' o '\\\\n' dentro del conjunto de datos por nan."
   ]
  },
  {
   "cell_type": "code",
   "execution_count": 6,
   "metadata": {
    "collapsed": true
   },
   "outputs": [],
   "source": [
    "data_transactions = data_transactions.replace({'\\\\N': np.nan,'\\\\n': np.nan})"
   ]
  },
  {
   "cell_type": "markdown",
   "metadata": {},
   "source": [
    "Se eliminan los datos que no contienen información de id_trn_ach, id_cliente, fecha y valor_trx."
   ]
  },
  {
   "cell_type": "code",
   "execution_count": 7,
   "metadata": {
    "collapsed": true
   },
   "outputs": [],
   "source": [
    "data_transactions = data_transactions[~data_transactions['id_trn_ach'].isnull()]\n",
    "data_transactions = data_transactions[~data_transactions['id_cliente'].isnull()]\n",
    "data_transactions = data_transactions[~data_transactions['fecha'].isnull()]\n",
    "data_transactions = data_transactions[~data_transactions['valor_trx'].isnull()]"
   ]
  },
  {
   "cell_type": "markdown",
   "metadata": {},
   "source": [
    "Los datos de las columnas *ref1* y *ref2*, se convierten todos a minúscula (*lower( )*). Posteriormente, se elimina el guión bajo para separar las frases que vienen unidas (*replace( )*) y los caracteres no deseados (*sub( )*). Aquellas abreviaciones como cc,ce,idc,entre otras, que se identificaron y se consideró no son relevantes en el análisis, se reemplazan por nan y finalmente se suprimen los espacios en blanco al inicio y al final (*strip( )*)."
   ]
  },
  {
   "cell_type": "code",
   "execution_count": 8,
   "metadata": {
    "collapsed": true
   },
   "outputs": [],
   "source": [
    "data_transactions[\"ref1\"] = data_transactions[\"ref1\"].apply(lambda x: x.lower())\n",
    "data_transactions['ref1'] = data_transactions.ref1.str.replace('_',' ')\n",
    "data_transactions[\"ref1\"] = data_transactions[\"ref1\"].apply(lambda s: re.sub(r\"([^n\\u0300-\\u036f]|n(?!\\u0303(?![\\u0300-\\u036f])))[\\u0300-\\u036f]+\", r\"\\1\", \n",
    "                                                                             normalize( \"NFD\", s), 0, re.I))\n",
    "data_transactions[\"ref1\"] = data_transactions[\"ref1\"].str.replace(r'(( |^)(cc|ce|idc|ti|nit|pp|pt|rc|TPNI|null|A|B|C|id|DE|NUIP|FM)( |$))|\\|','')  \n",
    "data_transactions[\"ref1\"] = data_transactions[\"ref1\"].apply(lambda x: x.strip())  \n",
    "data_transactions[\"ref1\"] = data_transactions[\"ref1\"].replace({\"nan\":np.nan, '':np.nan}) "
   ]
  },
  {
   "cell_type": "code",
   "execution_count": 9,
   "metadata": {
    "collapsed": true
   },
   "outputs": [],
   "source": [
    "data_transactions[\"ref2\"] = data_transactions[\"ref2\"].apply(lambda x: x.lower())\n",
    "data_transactions[\"ref1\"] = data_transactions.ref1.str.replace('_',' ')\n",
    "data_transactions[\"ref2\"] = data_transactions[\"ref2\"].apply(lambda s: re.sub(r\"([^n\\u0300-\\u036f]|n(?!\\u0303(?![\\u0300-\\u036f])))[\\u0300-\\u036f]+\", r\"\\1\", \n",
    "                                                                             normalize( \"NFD\", s), 0, re.I))\n",
    "data_transactions[\"ref2\"] = data_transactions[\"ref2\"].str.replace(r'(( |^)(cc|ce|idc|ti|nit|pp|pt|ni|rc|tpni|null|A|B|C|id|DE|NUIP|FM)( |$))|\\|','')  \n",
    "data_transactions[\"ref2\"] = data_transactions[\"ref2\"].apply(lambda x: x.strip())  \n",
    "data_transactions[\"ref2\"] = data_transactions[\"ref2\"].replace({\"nan\":np.nan, '':np.nan}) "
   ]
  },
  {
   "cell_type": "markdown",
   "metadata": {},
   "source": [
    "Para las otras columnas se reeemplazan los espacios vacios y los string 'nan' por np.nan."
   ]
  },
  {
   "cell_type": "code",
   "execution_count": 10,
   "metadata": {
    "collapsed": true
   },
   "outputs": [],
   "source": [
    "data_transactions[\"sector\"] = data_transactions[\"sector\"].replace({\"nan\":np.nan, '':np.nan}) \n",
    "data_transactions[\"subsector\"] = data_transactions[\"subsector\"].replace({\"nan\":np.nan, '':np.nan}) \n",
    "data_transactions[\"descripcion\"] = data_transactions[\"descripcion\"].replace({\"nan\":np.nan, '':np.nan}) \n",
    "data_transactions[\"descripcion2\"] = data_transactions[\"descripcion2\"].replace({\"nan\":np.nan, '':np.nan}) "
   ]
  },
  {
   "cell_type": "markdown",
   "metadata": {},
   "source": [
    "Se eliminan todas las filas con valores nulos tanto en *ref1* como en *ref2* y posteriormente, aquellas solo con valores nulos en *ref1*."
   ]
  },
  {
   "cell_type": "code",
   "execution_count": 11,
   "metadata": {
    "collapsed": true
   },
   "outputs": [],
   "source": [
    "data_transactions = data_transactions[(~data_transactions['ref1'].isnull()) | (~data_transactions['ref2'].isnull())]\n",
    "data_transactions = data_transactions[(~data_transactions['ref1'].isnull())]"
   ]
  },
  {
   "cell_type": "markdown",
   "metadata": {},
   "source": [
    "Se observa el número de datos después de la limpieza realizada a los datos."
   ]
  },
  {
   "cell_type": "code",
   "execution_count": 12,
   "metadata": {},
   "outputs": [
    {
     "data": {
      "text/plain": [
       "111873014"
      ]
     },
     "execution_count": 12,
     "metadata": {},
     "output_type": "execute_result"
    }
   ],
   "source": [
    "data_transactions.size"
   ]
  },
  {
   "cell_type": "markdown",
   "metadata": {},
   "source": [
    "Para procesar los datos ingresados en los campos de referencia (*ref1* y *ref2*), se eliminan las *stopwords*, que se refiere a aquellas palabras sin significado como las preposiciones o artículos en español."
   ]
  },
  {
   "cell_type": "code",
   "execution_count": 14,
   "metadata": {
    "collapsed": true
   },
   "outputs": [],
   "source": [
    "from nltk.corpus import stopwords\n",
    "sw = stopwords.words('spanish')\n",
    "data_transactions[\"ref1\"] = data_transactions[\"ref1\"].apply(lambda x: ' '.join(str(e) for e in [word for word in str.split(x) if word not in sw]))"
   ]
  },
  {
   "cell_type": "code",
   "execution_count": 15,
   "metadata": {
    "collapsed": true
   },
   "outputs": [],
   "source": [
    "data_transactions[\"ref2\"] = data_transactions[\"ref2\"].astype('str',  errors = 'ignore')\n",
    "data_transactions[\"ref2\"] = data_transactions[\"ref2\"].apply(lambda x: ' '.join(str(e) for e in [word for word in str.split(x) if word not in sw]))"
   ]
  },
  {
   "cell_type": "markdown",
   "metadata": {},
   "source": [
    "Los datos en la columna *ref2* que aparecen muy pocas veces, es decir que son únicos se observó que normalmente eran nombres de personas, correos, o datos sin relevancia. Por ende, se filtraron aquellos datos que no se encontraron repetidos más de 60 veces y se guardan en un archivo pkl."
   ]
  },
  {
   "cell_type": "code",
   "execution_count": 16,
   "metadata": {
    "collapsed": true
   },
   "outputs": [],
   "source": [
    "filtered = data_transactions.groupby('ref2').filter(lambda x: len(x) < 60).ref2\n",
    "data_transactions.loc[data_transactions['ref2'].isin(filtered),'ref2']= ''\n",
    "data_transactions[\"ref2\"] = data_transactions[\"ref2\"].replace({\"nan\":np.nan, '':np.nan})\n",
    "del filtered \n",
    "data_transactions.to_pickle('./transactions_BC_preclean.pkl')"
   ]
  },
  {
   "cell_type": "markdown",
   "metadata": {},
   "source": [
    "Habiendo limpiado los datos de las columnas de referencia, se unen las columnas *ref1* y *ref2* en una sola con nombre *ref* y se procede a limpiar esta columna. "
   ]
  },
  {
   "cell_type": "code",
   "execution_count": 2,
   "metadata": {
    "collapsed": true
   },
   "outputs": [],
   "source": [
    "data_transactions[\"ref2\"] = data_transactions[\"ref2\"].fillna(value=\"\")\n",
    "data_transactions[\"ref\"] = data_transactions[\"ref1\"] + \" \" + data_transactions[\"ref2\"] \n",
    "data_transactions[\"ref\"] = data_transactions[\"ref\"].apply(lambda x: x.strip())"
   ]
  },
  {
   "cell_type": "code",
   "execution_count": 3,
   "metadata": {
    "collapsed": true
   },
   "outputs": [],
   "source": [
    "data_transactions = data_transactions.drop(['ref1', 'ref2'],axis=1)\n",
    "data_transactions[\"ref\"] = data_transactions[\"ref\"].replace({\"nan\":np.nan, '':np.nan}) "
   ]
  },
  {
   "cell_type": "markdown",
   "metadata": {},
   "source": [
    "En caso de que queden datos nulos en *ref* se eliminan. "
   ]
  },
  {
   "cell_type": "code",
   "execution_count": 4,
   "metadata": {
    "collapsed": true
   },
   "outputs": [],
   "source": [
    "data_transactions = data_transactions[~data_transactions['ref'].isnull()]"
   ]
  },
  {
   "cell_type": "markdown",
   "metadata": {},
   "source": [
    "Para filtrar las transacciones con errores, se eliminan todas aquellas que correspondan a valores menores a 1600."
   ]
  },
  {
   "cell_type": "code",
   "execution_count": null,
   "metadata": {
    "collapsed": true
   },
   "outputs": [],
   "source": [
    "minimum_trx = 1600\n",
    "data_transactions[\"valor_trx\"] = data_transactions[\"valor_trx\"].astype('float64', errors = 'ignore')\n",
    "data_transactions = data_transactions.loc[(data_transactions[\"valor_trx\"]>minimum_trx)]"
   ]
  },
  {
   "cell_type": "markdown",
   "metadata": {},
   "source": [
    "Por otra parte, como se tienen los valores de las transacciones se decide estudiar el comportamiento de estos datos para observar si existen datos atípicos. Para esto, se utilliza un diagrama cajas. "
   ]
  },
  {
   "cell_type": "code",
   "execution_count": 6,
   "metadata": {
    "scrolled": false
   },
   "outputs": [
    {
     "data": {
      "text/plain": [
       "{'boxes': [<matplotlib.lines.Line2D at 0x2165ee216d8>],\n",
       " 'caps': [<matplotlib.lines.Line2D at 0x2165edeb320>,\n",
       "  <matplotlib.lines.Line2D at 0x2165ede5358>],\n",
       " 'fliers': [<matplotlib.lines.Line2D at 0x2165eda9668>],\n",
       " 'means': [],\n",
       " 'medians': [<matplotlib.lines.Line2D at 0x2165edce4e0>],\n",
       " 'whiskers': [<matplotlib.lines.Line2D at 0x2165ee14b38>,\n",
       "  <matplotlib.lines.Line2D at 0x2165edfa550>]}"
      ]
     },
     "execution_count": 6,
     "metadata": {},
     "output_type": "execute_result"
    },
    {
     "data": {
      "image/png": "[encoded data removed]",
      "text/plain": [
       "<Figure size 432x288 with 1 Axes>"
      ]
     },
     "metadata": {},
     "output_type": "display_data"
    }
   ],
   "source": [
    "trxs = data_transactions[\"valor_trx\"] \n",
    "plt.boxplot(trxs, showfliers = True)"
   ]
  },
  {
   "cell_type": "markdown",
   "metadata": {},
   "source": [
    "Al verificar que efectivamente se tienen valores atípicos, usamos el método que se basa en el rango intercuartil para filtrar los datos que se desvían de la media encontrada, creando una función denominada *outlier_detection* y se dibuja nuevamente un diagrama de cajas. "
   ]
  },
  {
   "cell_type": "code",
   "execution_count": 7,
   "metadata": {},
   "outputs": [
    {
     "data": {
      "text/plain": [
       "{'boxes': [<matplotlib.lines.Line2D at 0x2165ea378d0>],\n",
       " 'caps': [<matplotlib.lines.Line2D at 0x2165e9f8b38>,\n",
       "  <matplotlib.lines.Line2D at 0x2165e9da668>],\n",
       " 'fliers': [<matplotlib.lines.Line2D at 0x2165e9b2588>],\n",
       " 'means': [],\n",
       " 'medians': [<matplotlib.lines.Line2D at 0x2165e9cf518>],\n",
       " 'whiskers': [<matplotlib.lines.Line2D at 0x2165ea315f8>,\n",
       "  <matplotlib.lines.Line2D at 0x2165ea11e48>]}"
      ]
     },
     "execution_count": 7,
     "metadata": {},
     "output_type": "execute_result"
    },
    {
     "data": {
      "image/png": "[encoded data removed]",
      "text/plain": [
       "<Figure size 432x288 with 1 Axes>"
      ]
     },
     "metadata": {},
     "output_type": "display_data"
    }
   ],
   "source": [
    "def outlier_detection(df, column_name):\n",
    "    q3=df[column_name].quantile(0.75)\n",
    "    q1=df[column_name].quantile(0.25)\n",
    "    IQR=q3-q1\n",
    "    a=q1-1.5*(IQR)\n",
    "    b=q3+1.5*(IQR)\n",
    "    df_f =df.loc[(df[column_name]>a)&(df[column_name]<=b)]\n",
    "    return df_f\n",
    "\n",
    "data_transactions = outlier_detection(data_transactions, \"valor_trx\")\n",
    "trxs = data_transactions[\"valor_trx\"]\n",
    "plt.boxplot(trxs, showfliers = True)"
   ]
  },
  {
   "cell_type": "markdown",
   "metadata": {},
   "source": [
    "Se observa de nuevo la cantidad de datos al limpiar datos atípicos en las transacciones y el porcentaje de valores nulos por columna. Finalmente, se resetea el indice de los datos. "
   ]
  },
  {
   "cell_type": "code",
   "execution_count": 8,
   "metadata": {},
   "outputs": [
    {
     "name": "stdout",
     "output_type": "stream",
     "text": [
      "86773260\n"
     ]
    },
    {
     "data": {
      "text/plain": [
       "id_trn_ach       0.000000\n",
       "id_cliente       0.000000\n",
       "fecha            0.000000\n",
       "hora             0.000000\n",
       "valor_trx        0.000000\n",
       "sector          66.411035\n",
       "subsector       66.411035\n",
       "descripcion     66.411035\n",
       "descripcion2    99.812615\n",
       "ref              0.000000\n",
       "dtype: float64"
      ]
     },
     "execution_count": 8,
     "metadata": {},
     "output_type": "execute_result"
    }
   ],
   "source": [
    "print(data_transactions.size)\n",
    "100*data_transactions.isnull().mean()\n",
    "data_transactions = data_transactions.reset_index(drop=True)"
   ]
  },
  {
   "cell_type": "code",
   "execution_count": 10,
   "metadata": {
    "collapsed": true
   },
   "outputs": [],
   "source": [
    "data_transactions.to_pickle(\"./transactions_BC_preclean.pkl\")\n",
    "data_transactions.to_csv(\"./transactions_BC_preclean.csv\", encoding=\"utf-8\")"
   ]
  },
  {
   "cell_type": "code",
   "execution_count": null,
   "metadata": {
    "collapsed": true
   },
   "outputs": [],
   "source": []
  }
 ],
 "metadata": {
  "kernelspec": {
   "display_name": "Python 3",
   "language": "python",
   "name": "python3"
  },
  "language_info": {
   "codemirror_mode": {
    "name": "ipython",
    "version": 3
   },
   "file_extension": ".py",
   "mimetype": "text/x-python",
   "name": "python",
   "nbconvert_exporter": "python",
   "pygments_lexer": "ipython3",
   "version": "3.5.4"
  }
 },
 "nbformat": 4,
 "nbformat_minor": 2
}
