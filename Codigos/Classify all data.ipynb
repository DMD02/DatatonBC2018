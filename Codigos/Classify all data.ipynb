{
 "cells": [
  {
   "cell_type": "markdown",
   "metadata": {},
   "source": [
    "# Clasificación de los datos \n",
    "#### JJD-Predictors"
   ]
  },
  {
   "cell_type": "markdown",
   "metadata": {},
   "source": [
    "Se lee del archivo \"./refs_classified.pkl\" las categorias asignadas para distintas referencias. "
   ]
  },
  {
   "cell_type": "code",
   "execution_count": 1,
   "metadata": {},
   "outputs": [
    {
     "data": {
      "text/plain": [
       "array(['acueducto', 'serviciudad esp', 'gases caribe sa esp',\n",
       "       'emserchia esp', 'hydros mosquera esp',\n",
       "       'aguas sabana sa esp sincelejo', 'proactiva aguas monteria',\n",
       "       'emcartago', 'empresas publicas medellin esp', 'arrendamientos',\n",
       "       'pago electronico emcaliach', 'pago factura gas natural cupon'], dtype=object)"
      ]
     },
     "execution_count": 1,
     "metadata": {},
     "output_type": "execute_result"
    }
   ],
   "source": [
    "import pandas as pd\n",
    "import numpy as np\n",
    "df_result = pd.read_pickle(\"./refs_classified.pkl\")\n",
    "df_result.loc[df_result[\"clasificacion\"] == \"Hogar\"].ref.unique()"
   ]
  },
  {
   "cell_type": "markdown",
   "metadata": {},
   "source": [
    "Para hacer la clasificación se eliminan aquellas palabras que son comunes en la mayoría de referencias, que solo agregan ruido al clasificador y al conjunto de datos por clasificar. "
   ]
  },
  {
   "cell_type": "code",
   "execution_count": 2,
   "metadata": {},
   "outputs": [
    {
     "data": {
      "text/plain": [
       "id_trn_ach      8187193\n",
       "id_cliente      8187193\n",
       "fecha           8187193\n",
       "hora            8187193\n",
       "valor_trx       8187193\n",
       "sector          2913027\n",
       "subsector       2913027\n",
       "descripcion     2913027\n",
       "descripcion2      16138\n",
       "ref             8187193\n",
       "dtype: int64"
      ]
     },
     "execution_count": 2,
     "metadata": {},
     "output_type": "execute_result"
    }
   ],
   "source": [
    "data_transactions = pd.read_pickle(\"./transactions_BC.pkl\")\n",
    "data_transactions['ref'] = data_transactions.ref.astype('str') \n",
    "data_transactions['ref'] = data_transactions.ref.replace(':',' ', regex = True)\n",
    "data_transactions['ref'] = data_transactions.ref.replace('pago ','', regex = True)\n",
    "data_transactions['ref'] = data_transactions.ref.replace('factura','',regex = True)\n",
    "data_transactions['ref'] = data_transactions.ref.replace('pagos ','',regex = True)\n",
    "data_transactions['ref'] = data_transactions.ref.replace('facturas','',regex = True)\n",
    "data_transactions['ref'] = data_transactions.ref.replace('compra','',regex = True)\n",
    "data_transactions['ref'] = data_transactions.ref.replace('compras','',regex = True)\n",
    "data_transactions[\"ref\"] = data_transactions[\"ref\"].apply(lambda x: x.strip()) \n",
    "data_transactions[\"ref\"] = data_transactions[\"ref\"].replace({\"nan\":np.nan, '':np.nan, '//':np.nan})\n",
    "data_transactions = data_transactions[(~data_transactions[\"ref\"].isnull())]\n",
    "data_transactions.count()"
   ]
  },
  {
   "cell_type": "code",
   "execution_count": 3,
   "metadata": {
    "collapsed": true
   },
   "outputs": [],
   "source": [
    "df_result['ref'] = df_result.ref.astype('str') \n",
    "df_result['ref'] = df_result.ref.replace(':',' ', regex = True)\n",
    "df_result['ref'] = df_result.ref.replace('pago ','',regex = True)\n",
    "df_result['ref'] = df_result.ref.replace('factura','',regex = True)\n",
    "df_result['ref'] = df_result.ref.replace('pagos ','',regex = True)\n",
    "df_result['ref'] = df_result.ref.replace('facturas','',regex = True)\n",
    "df_result['ref'] = df_result.ref.replace('compra','',regex = True)\n",
    "df_result['ref'] = df_result.ref.replace('compras','',regex = True)\n",
    "df_result[\"ref\"] = df_result[\"ref\"].apply(lambda x: x.strip()) \n",
    "df_result[\"ref\"] = df_result[\"ref\"].replace({\"nan\":np.nan, '':np.nan, '//':np.nan})\n",
    "df_result = df_result[(~df_result[\"ref\"].isnull())]"
   ]
  },
  {
   "cell_type": "markdown",
   "metadata": {},
   "source": [
    "Se agregan ciertos valores faltantes y relevantes para el clasificador que se encontraron en el campo de ref muchas veces."
   ]
  },
  {
   "cell_type": "code",
   "execution_count": 4,
   "metadata": {},
   "outputs": [
    {
     "data": {
      "text/plain": [
       "Gobierno           126\n",
       "Entretenimiento    112\n",
       "Subscripcion        52\n",
       "Educacion           46\n",
       "TyC                 26\n",
       "Transporte          26\n",
       "Pago de Deudas      25\n",
       "Hogar               16\n",
       "Seguros             11\n",
       "Otros               10\n",
       "Salud                2\n",
       "Viajes               2\n",
       "Comida               1\n",
       "Moda                 1\n",
       "Name: clasificacion, dtype: int64"
      ]
     },
     "execution_count": 4,
     "metadata": {},
     "output_type": "execute_result"
    }
   ],
   "source": [
    "df2 = pd.DataFrame([[\"conjunto residencial\", \"Hogar\"], [\"conj resi\", \"Hogar\"],[\"cartera\", \"Salud\"],\n",
    "                   [\"administracion edificio\", \"Hogar\"], [\"admon edif\", \"Hogar\"]], columns=[\"ref\", \"clasificacion\" ])\n",
    "df_result = df_result.append(df2, ignore_index=True)\n",
    "df_result.clasificacion.value_counts()"
   ]
  },
  {
   "cell_type": "markdown",
   "metadata": {},
   "source": [
    "Se separan las palabras con el método *word_tokenize* y luegon se estemizan las palabras para reducirlas a su raíz."
   ]
  },
  {
   "cell_type": "code",
   "execution_count": 5,
   "metadata": {
    "collapsed": true
   },
   "outputs": [],
   "source": [
    "from nltk import word_tokenize\n",
    "from nltk.stem import SnowballStemmer\n",
    "stemmer = SnowballStemmer('spanish')\n",
    "data_transactions[\"ref\"] = data_transactions[\"ref\"].apply(lambda x: ' '.join([stemmer.stem(i) for i in word_tokenize(x)]))"
   ]
  },
  {
   "cell_type": "markdown",
   "metadata": {},
   "source": [
    "Al hacer lo anterior ciertas referencias quedan igual por ende se eliminan. "
   ]
  },
  {
   "cell_type": "code",
   "execution_count": 6,
   "metadata": {
    "collapsed": true
   },
   "outputs": [],
   "source": [
    "df_result[\"ref\"] = df_result[\"ref\"].apply(lambda x: ' '.join([stemmer.stem(i) for i in word_tokenize(x)]))\n",
    "df_result = df_result.drop_duplicates()"
   ]
  },
  {
   "cell_type": "code",
   "execution_count": 7,
   "metadata": {},
   "outputs": [
    {
     "data": {
      "text/plain": [
       "id_trn_ach       5409566\n",
       "id_cliente       5409566\n",
       "fecha            5409566\n",
       "hora             5409566\n",
       "valor_trx        5409566\n",
       "sector           2686607\n",
       "subsector        2686607\n",
       "descripcion      2686607\n",
       "descripcion2         551\n",
       "ref              5409566\n",
       "clasificacion    5409566\n",
       "dtype: int64"
      ]
     },
     "execution_count": 7,
     "metadata": {},
     "output_type": "execute_result"
    }
   ],
   "source": [
    "df = pd.merge(data_transactions, df_result, on='ref', how='inner')\n",
    "df.count()"
   ]
  },
  {
   "cell_type": "code",
   "execution_count": 8,
   "metadata": {},
   "outputs": [
    {
     "name": "stderr",
     "output_type": "stream",
     "text": [
      "C:\\Users\\jcamp\\Anaconda3\\envs\\myenv\\lib\\site-packages\\sklearn\\cross_validation.py:41: DeprecationWarning: This module was deprecated in version 0.18 in favor of the model_selection module into which all the refactored classes and functions are moved. Also note that the interface of the new CV iterators are different from that of this module. This module will be removed in 0.20.\n",
      "  \"This module will be removed in 0.20.\", DeprecationWarning)\n"
     ]
    }
   ],
   "source": [
    "import pandas as pd\n",
    "import numpy as np \n",
    "import matplotlib.pyplot as plt\n",
    "from sklearn.model_selection import train_test_split\n",
    "from sklearn.feature_extraction.text import CountVectorizer\n",
    "from sklearn.feature_extraction.text import TfidfTransformer\n",
    "from sklearn.naive_bayes import MultinomialNB\n",
    "from sklearn.linear_model import SGDClassifier\n",
    "from sklearn import metrics\n",
    "from sklearn.cross_validation import cross_val_score\n",
    "from sklearn.pipeline import Pipeline\n",
    "%matplotlib inline"
   ]
  },
  {
   "cell_type": "markdown",
   "metadata": {},
   "source": [
    "Para entrenar correctamente el modelo de clasificación se balancea los datos correspondientes a las categorias."
   ]
  },
  {
   "cell_type": "code",
   "execution_count": 9,
   "metadata": {
    "collapsed": true
   },
   "outputs": [],
   "source": [
    "value_counts = df_result.clasificacion.value_counts()\n",
    "clasifications = value_counts.index\n",
    "df_balance = pd.DataFrame(columns = [\"ref\", \"clasificacion\"])\n",
    "\n",
    "for element in clasifications:\n",
    "    df_class_0 =  df_result[df_result['clasificacion'] == element]\n",
    "    df_class_0_under = df_class_0.sample(value_counts.max(), replace = True)\n",
    "    df_balance = pd.concat([df_balance, df_class_0_under], axis=0)"
   ]
  },
  {
   "cell_type": "markdown",
   "metadata": {},
   "source": [
    "Posteriormente, se dividen los datos en parte de entrenamiento y parte de prueba para verificar que el modelo usado para clasificar los datos tenga un buen resultado. "
   ]
  },
  {
   "cell_type": "code",
   "execution_count": 10,
   "metadata": {
    "collapsed": true
   },
   "outputs": [],
   "source": [
    "ref_data = df_balance.ref\n",
    "category_data = df_balance.clasificacion\n",
    "ref_train,ref_test,Category_train,Category_test=train_test_split(ref_data,category_data,test_size=0.7,shuffle=True)"
   ]
  },
  {
   "cell_type": "markdown",
   "metadata": {},
   "source": [
    "En primer lugar, se usa el método conocido como **Naive Bayes** para clasificar y se utiliza el método de cross_validation, que consiste en dividir el dataset cinco veces y computar el valor-F para cada una. Al final se muestra un arreglo con los resultados."
   ]
  },
  {
   "cell_type": "code",
   "execution_count": 11,
   "metadata": {},
   "outputs": [
    {
     "data": {
      "text/plain": [
       "array([ 0.96102989,  0.97048853,  0.99349305,  0.96060039,  0.96774115])"
      ]
     },
     "execution_count": 11,
     "metadata": {},
     "output_type": "execute_result"
    }
   ],
   "source": [
    "text_clf = Pipeline([('vect', CountVectorizer()),\n",
    "                    ('tfidf', TfidfTransformer( )),\n",
    "                     ('clf', MultinomialNB()),\n",
    " ])\n",
    "\n",
    "scores = cross_val_score(text_clf, df_balance.ref, df_balance.clasificacion, cv=5, scoring='f1_macro')\n",
    "text_clf.fit(ref_train, Category_train)\n",
    "scores"
   ]
  },
  {
   "cell_type": "markdown",
   "metadata": {},
   "source": [
    "Adicionalmente, se verifica que tan cercano es el promedio entre datos predecidos y los reales."
   ]
  },
  {
   "cell_type": "code",
   "execution_count": 12,
   "metadata": {},
   "outputs": [
    {
     "name": "stdout",
     "output_type": "stream",
     "text": [
      "0.967532467532\n",
      "0.87012987013\n"
     ]
    }
   ],
   "source": [
    "predicted = text_clf.predict(ref_train)\n",
    "print(np.mean(predicted == Category_train))\n",
    "predicted = text_clf.predict(ref_test)\n",
    "print(np.mean(predicted == Category_test))"
   ]
  },
  {
   "cell_type": "code",
   "execution_count": 13,
   "metadata": {
    "scrolled": false
   },
   "outputs": [
    {
     "name": "stdout",
     "output_type": "stream",
     "text": [
      "0.87229547072\n"
     ]
    }
   ],
   "source": [
    "print(metrics.f1_score(Category_test,predicted,average='macro'))"
   ]
  },
  {
   "cell_type": "markdown",
   "metadata": {},
   "source": [
    "Por otra parte, se utiliza otro método conocido como **Máquinas de soporte vectorial** para clasificar y nuevamente se usa cross_validation para verificar que tan bueno es el método."
   ]
  },
  {
   "cell_type": "code",
   "execution_count": 14,
   "metadata": {
    "scrolled": true
   },
   "outputs": [
    {
     "name": "stderr",
     "output_type": "stream",
     "text": [
      "C:\\Users\\jcamp\\Anaconda3\\envs\\myenv\\lib\\site-packages\\sklearn\\linear_model\\stochastic_gradient.py:73: DeprecationWarning: n_iter parameter is deprecated in 0.19 and will be removed in 0.21. Use max_iter and tol instead.\n",
      "  DeprecationWarning)\n"
     ]
    },
    {
     "data": {
      "text/plain": [
       "array([ 0.96430667,  0.97399221,  1.        ,  0.96703653,  0.97739123])"
      ]
     },
     "execution_count": 14,
     "metadata": {},
     "output_type": "execute_result"
    }
   ],
   "source": [
    "text_clf_svm = Pipeline([('vect', CountVectorizer()),\n",
    "('tfidf', TfidfTransformer()),\n",
    "('clf-svm', SGDClassifier(penalty='l2', loss='log',\n",
    "alpha=1e-3, n_iter=5, random_state=42))\n",
    "])\n",
    "\n",
    "scores = cross_val_score(text_clf_svm, df_balance.ref, df_balance.clasificacion, cv=5, scoring='f1_macro')\n",
    "text_clf.fit(ref_train, Category_train)\n",
    "scores"
   ]
  },
  {
   "cell_type": "markdown",
   "metadata": {},
   "source": [
    "Adicionalmente, se verifica que tan cercano es el promedio entre datos predecidos y los reales."
   ]
  },
  {
   "cell_type": "code",
   "execution_count": 15,
   "metadata": {},
   "outputs": [
    {
     "name": "stdout",
     "output_type": "stream",
     "text": [
      "1.0\n",
      "0.936920222635\n"
     ]
    }
   ],
   "source": [
    "text_clf_svm.fit(ref_train, Category_train)\n",
    "predicted = text_clf_svm.predict(ref_train)\n",
    "print(np.mean(predicted == Category_train))\n",
    "predicted = text_clf_svm.predict(ref_test)\n",
    "print(np.mean(predicted == Category_test))"
   ]
  },
  {
   "cell_type": "markdown",
   "metadata": {},
   "source": [
    "Se une el dataset con la información de las transacciones con el de la clasificación, comparando la columna de *ref*."
   ]
  },
  {
   "cell_type": "code",
   "execution_count": 16,
   "metadata": {
    "collapsed": true
   },
   "outputs": [],
   "source": [
    "df = pd.merge(data_transactions, df_result , on='ref', how='outer' )"
   ]
  },
  {
   "cell_type": "markdown",
   "metadata": {},
   "source": [
    "Se puede observar que 5'409569 ya son clasificados unicamente por su referencia. "
   ]
  },
  {
   "cell_type": "code",
   "execution_count": 17,
   "metadata": {},
   "outputs": [
    {
     "data": {
      "text/plain": [
       "id_trn_ach       8187193\n",
       "id_cliente       8187193\n",
       "fecha            8187193\n",
       "hora             8187193\n",
       "valor_trx        8187193\n",
       "sector           2913027\n",
       "subsector        2913027\n",
       "descripcion      2913027\n",
       "descripcion2       16138\n",
       "ref              8187196\n",
       "clasificacion    5409569\n",
       "dtype: int64"
      ]
     },
     "execution_count": 17,
     "metadata": {},
     "output_type": "execute_result"
    }
   ],
   "source": [
    "df.count()"
   ]
  },
  {
   "cell_type": "markdown",
   "metadata": {},
   "source": [
    "Quedan entonces 2'777627 por clasificar y para estos se utiliza el clasificador basado en el método de **Máquinas de soporte vectorial** que fue el que mostró el mejor desempeño."
   ]
  },
  {
   "cell_type": "code",
   "execution_count": 18,
   "metadata": {
    "collapsed": true
   },
   "outputs": [],
   "source": [
    "data_to_predict = df.loc[df[\"clasificacion\"].isnull()]\n",
    "data_classified = df.loc[~df[\"clasificacion\"].isnull()]"
   ]
  },
  {
   "cell_type": "code",
   "execution_count": 19,
   "metadata": {},
   "outputs": [
    {
     "data": {
      "text/plain": [
       "id_trn_ach       2777627\n",
       "id_cliente       2777627\n",
       "fecha            2777627\n",
       "hora             2777627\n",
       "valor_trx        2777627\n",
       "sector            226420\n",
       "subsector         226420\n",
       "descripcion       226420\n",
       "descripcion2       15587\n",
       "ref              2777627\n",
       "clasificacion          0\n",
       "dtype: int64"
      ]
     },
     "execution_count": 19,
     "metadata": {},
     "output_type": "execute_result"
    }
   ],
   "source": [
    "data_to_predict.count()"
   ]
  },
  {
   "cell_type": "code",
   "execution_count": 20,
   "metadata": {
    "collapsed": true
   },
   "outputs": [],
   "source": [
    "clasificacion_predicted = text_clf_svm.predict(data_to_predict.ref)\n",
    "predict_prob = text_clf_svm.predict_proba(data_to_predict.ref)"
   ]
  },
  {
   "cell_type": "markdown",
   "metadata": {},
   "source": [
    "Se verifica la confianza de las predicciones con una gráfica de probabilidad para determinar si es correcta."
   ]
  },
  {
   "cell_type": "code",
   "execution_count": 21,
   "metadata": {},
   "outputs": [
    {
     "data": {
      "image/png": "[encoded data removed]",
      "text/plain": [
       "<Figure size 432x288 with 1 Axes>"
      ]
     },
     "metadata": {},
     "output_type": "display_data"
    }
   ],
   "source": [
    "data = [max(x) for x in predict_prob]\n",
    "# fixed bin size\n",
    "bins = np.arange(-0, 0.8, 0.05) # fixed bin size\n",
    "\n",
    "plt.xlim([min(data)-0.1, max(data)+0.1])\n",
    "\n",
    "plt.hist(data, bins=bins, alpha=0.5)\n",
    "plt.title('Confianza de las predicciones')\n",
    "plt.xlabel('Probabilidad')\n",
    "plt.ylabel('Conteo')\n",
    "\n",
    "plt.show()"
   ]
  },
  {
   "cell_type": "code",
   "execution_count": 22,
   "metadata": {
    "collapsed": true
   },
   "outputs": [],
   "source": [
    "clasificacion_predicted2  = clasificacion_predicted\n",
    "for i in range(len(predict_prob)):\n",
    "    if max(predict_prob[i]) < 0.1:\n",
    "        clasificacion_predicted2[i]=\"Indefinido\""
   ]
  },
  {
   "cell_type": "code",
   "execution_count": 23,
   "metadata": {},
   "outputs": [
    {
     "name": "stderr",
     "output_type": "stream",
     "text": [
      "C:\\Users\\jcamp\\Anaconda3\\envs\\myenv\\lib\\site-packages\\ipykernel_launcher.py:1: SettingWithCopyWarning: \n",
      "A value is trying to be set on a copy of a slice from a DataFrame.\n",
      "Try using .loc[row_indexer,col_indexer] = value instead\n",
      "\n",
      "See the caveats in the documentation: http://pandas.pydata.org/pandas-docs/stable/indexing.html#indexing-view-versus-copy\n",
      "  \"\"\"Entry point for launching an IPython kernel.\n"
     ]
    }
   ],
   "source": [
    "data_to_predict[\"clasificacion\"] = clasificacion_predicted2"
   ]
  },
  {
   "cell_type": "code",
   "execution_count": 24,
   "metadata": {
    "collapsed": true
   },
   "outputs": [],
   "source": [
    "data_to_predict.to_pickle(\"./transactions_to_predict_classified_StemmingSVM.pkl\")"
   ]
  },
  {
   "cell_type": "code",
   "execution_count": 25,
   "metadata": {
    "collapsed": true
   },
   "outputs": [],
   "source": [
    "data_classified.to_pickle(\"./transactions_with_classification_StemmingSVM.pkl\")"
   ]
  },
  {
   "cell_type": "code",
   "execution_count": 1,
   "metadata": {
    "collapsed": true
   },
   "outputs": [],
   "source": [
    "import pandas as pd\n",
    "import numpy as np\n",
    "\n",
    "data_to_predict = pd.read_pickle(\"./transactions_to_predict_classified_StemmingSVM.pkl\")\n",
    "data_classified = pd.read_pickle(\"./transactions_with_classification_StemmingSVM.pkl\")\n",
    "df_final = pd.concat([data_to_predict, data_classified], ignore_index=True)\n",
    "df_final = df_final.drop(['sector', 'subsector','descripcion', 'descripcion2'], axis=1)\n",
    "df_final.to_pickle(\"./transactions_classified_ligera_StemmingSVM.pkl\")\n",
    "#df_final.to_csv(\"./transactions_classified_ligera.csv\", encoding = 'utf-8')"
   ]
  },
  {
   "cell_type": "markdown",
   "metadata": {},
   "source": [
    "Aquellos valores en donde la predicción era menor a 0.1 se les asigno una nueva categoria denominada indefinido y posteriormente se eliminaron estos valores."
   ]
  },
  {
   "cell_type": "code",
   "execution_count": 2,
   "metadata": {},
   "outputs": [
    {
     "data": {
      "text/plain": [
       "<matplotlib.axes._subplots.AxesSubplot at 0x142bb505ac8>"
      ]
     },
     "execution_count": 2,
     "metadata": {},
     "output_type": "execute_result"
    },
    {
     "data": {
      "image/png": "[encoded data removed]",
      "text/plain": [
       "<Figure size 432x288 with 1 Axes>"
      ]
     },
     "metadata": {},
     "output_type": "display_data"
    }
   ],
   "source": [
    "import matplotlib.pyplot as plt\n",
    "%matplotlib inline\n",
    "data_to_predict.clasificacion.value_counts().plot(kind='bar')"
   ]
  },
  {
   "cell_type": "code",
   "execution_count": 3,
   "metadata": {},
   "outputs": [
    {
     "name": "stderr",
     "output_type": "stream",
     "text": [
      "IOPub data rate exceeded.\n",
      "The notebook server will temporarily stop sending output\n",
      "to the client in order to avoid crashing it.\n",
      "To change this limit, set the config variable\n",
      "`--NotebookApp.iopub_data_rate_limit`.\n"
     ]
    }
   ],
   "source": [
    "data_to_predict[data_to_predict[\"clasificacion\"]==\"Pago de Deudas\"].ref.value_counts()"
   ]
  },
  {
   "cell_type": "code",
   "execution_count": 4,
   "metadata": {},
   "outputs": [
    {
     "data": {
      "text/plain": [
       "<matplotlib.axes._subplots.AxesSubplot at 0x142bb780a58>"
      ]
     },
     "execution_count": 4,
     "metadata": {},
     "output_type": "execute_result"
    },
    {
     "data": {
      "image/png": "[encoded data removed]",
      "text/plain": [
       "<Figure size 432x288 with 1 Axes>"
      ]
     },
     "metadata": {},
     "output_type": "display_data"
    }
   ],
   "source": [
    "df_final.clasificacion.value_counts().plot(kind='bar')"
   ]
  },
  {
   "cell_type": "markdown",
   "metadata": {},
   "source": [
    "Se eliminan aquellos valores indefinidos para terminar con 6'983669 datos bien clasificados."
   ]
  },
  {
   "cell_type": "code",
   "execution_count": 6,
   "metadata": {},
   "outputs": [
    {
     "data": {
      "text/plain": [
       "id_trn_ach       6983666\n",
       "id_cliente       6983666\n",
       "fecha            6983666\n",
       "hora             6983666\n",
       "valor_trx        6983666\n",
       "ref              6983669\n",
       "clasificacion    6983669\n",
       "dtype: int64"
      ]
     },
     "execution_count": 6,
     "metadata": {},
     "output_type": "execute_result"
    }
   ],
   "source": [
    "df_final.count() - df_final.loc[df_final[\"clasificacion\"]==\"Indefinido\"].count()"
   ]
  },
  {
   "cell_type": "markdown",
   "metadata": {},
   "source": [
    "El resultado final se guarda en un archivo csv."
   ]
  },
  {
   "cell_type": "code",
   "execution_count": 5,
   "metadata": {
    "collapsed": true
   },
   "outputs": [],
   "source": [
    "df_final.to_csv(\"./transactions_classified_ligera_StemmingSVM.csv\", encoding = 'utf-8')"
   ]
  }
 ],
 "metadata": {
  "kernelspec": {
   "display_name": "Python 3",
   "language": "python",
   "name": "python3"
  },
  "language_info": {
   "codemirror_mode": {
    "name": "ipython",
    "version": 3
   },
   "file_extension": ".py",
   "mimetype": "text/x-python",
   "name": "python",
   "nbconvert_exporter": "python",
   "pygments_lexer": "ipython3",
   "version": "3.5.4"
  }
 },
 "nbformat": 4,
 "nbformat_minor": 2
}
