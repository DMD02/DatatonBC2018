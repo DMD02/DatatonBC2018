{
 "cells": [
  {
   "cell_type": "markdown",
   "metadata": {},
   "source": [
    "## Data Transactions Words Cleaning\n",
    "### JJD-Predictors\n",
    "Con el objetivo de terminar de limpiar el campo ref (el cual es una union de los campos ref1 y ref2) se eliminaran palabras que esta presentes menos de 10 veces dentro del campo ref. Esto se hace con el proposito de eliminar cadenas de texto sin sentido, nombres propios, direcciones e-mail, etc. Empezamos cargando los datos que ya se han limpiado en el Notebook \"Data Transactions Cleaning\""
   ]
  },
  {
   "cell_type": "code",
   "execution_count": 1,
   "metadata": {
    "collapsed": true
   },
   "outputs": [],
   "source": [
    "import pandas as pd\n",
    "import numpy as np\n",
    "import matplotlib.pyplot as plt\n",
    "import re\n",
    "from unicodedata import normalize\n",
    "\n",
    "%matplotlib inline\n",
    "\n",
    "data_transactions = pd.read_pickle('./transactions_BC_preclean.pkl')"
   ]
  },
  {
   "cell_type": "markdown",
   "metadata": {},
   "source": [
    "Ahora se crea un data frame las palabras presentes en el campo ref de todo el dataset. En total existen 384886 palabras distintas en el campo ref. Note que las palabras con pocas ocurrencias en el campo ref son palabras sin sentido."
   ]
  },
  {
   "cell_type": "code",
   "execution_count": 2,
   "metadata": {
    "collapsed": true
   },
   "outputs": [],
   "source": [
    "a = np.array(data_transactions.ref.str.split())\n",
    "a = a.flatten('F').ravel().tolist() \n",
    "flat_list = [item for sublist in a for item in sublist]\n",
    "df = pd.DataFrame({\"words\":flat_list})\n",
    "value_counts = df[\"words\"].value_counts()\n",
    "len(value_counts)"
   ]
  },
  {
   "cell_type": "code",
   "execution_count": 6,
   "metadata": {},
   "outputs": [
    {
     "data": {
      "text/plain": [
       "pago                            3689975\n",
       "factura                         1119288\n",
       "pse                              607992\n",
       "recarga                          593844\n",
       "saldo                            528965\n",
       "compra                           501709\n",
       "medellin                         475635\n",
       "express                          458625\n",
       "esp                              433992\n",
       "publicas                         416629\n",
       "empresas                         416352\n",
       "transaccion                      369826\n",
       "certificados                     368950\n",
       "pagos                            321327\n",
       "postpago                         306224\n",
       "credito                          305436\n",
       "generacion                       299130\n",
       "libertad                         283066\n",
       "tradicion                        282866\n",
       "contrato:                        277174\n",
       "referencia:                      276886\n",
       "valor:                           265602\n",
       "traves                           245398\n",
       "ref                              231394\n",
       "cpv                              229042\n",
       "referencia                       214627\n",
       "nequi                            202508\n",
       "portal                           146871\n",
       "facturas:                        145243\n",
       "tarjeta                          144548\n",
       "                                 ...   \n",
       "fireluke                              1\n",
       "pulpito                               1\n",
       "cmxzwp                                1\n",
       "szvos                                 1\n",
       "paymentid=beddfbbdbbcbbd              1\n",
       "cfcvrl                                1\n",
       "vbboha                                1\n",
       "rzsrbookingpsepaymentpago             1\n",
       "zujbookingpsepaymentpago              1\n",
       "sozcug                                1\n",
       "munoztobon@hotmailcom                 1\n",
       "mwmykf                                1\n",
       "pzufbbookingpsepaymentpago            1\n",
       "paymentid=addfeecabdcee               1\n",
       "ywtzbookingpsepaymentpago             1\n",
       "lmppez                                1\n",
       "umvdbookingpsepaymentpago             1\n",
       "paymentid=ddabdabeb                   1\n",
       "lxrr                                  1\n",
       "paymentid=ccbcaeaebea                 1\n",
       "sebastiandario@hotmailcom             1\n",
       "xetvbookingpsepaymentpago             1\n",
       "ouda                                  1\n",
       "paymentid=cacdecbecebfa               1\n",
       "paymentid=cedfbdbeffbfc               1\n",
       "paymentid=ffebeeeafaadfabbfd          1\n",
       "placaauwa                             1\n",
       "mobkr                                 1\n",
       "wqvwz,eticket                         1\n",
       "keucve                                1\n",
       "Name: words, Length: 384886, dtype: int64"
      ]
     },
     "execution_count": 6,
     "metadata": {},
     "output_type": "execute_result"
    }
   ],
   "source": [
    "df[\"words\"].value_counts()"
   ]
  },
  {
   "cell_type": "markdown",
   "metadata": {},
   "source": [
    "Se escogen las palabras a eliminar, como las palabras que aparecen menos de 10 veces en todo el campo ref. Eliminando estas palabras quedaran 13432 palabras distintas en el campo ref, para todo el dataset. Ademas, palabras como pago y factura se eliminan porque tienen alta frecuencia y no seran utiles para la clasificacion. De hecho estas palabras pueden generar un sesgo en el modelo."
   ]
  },
  {
   "cell_type": "code",
   "execution_count": 6,
   "metadata": {},
   "outputs": [
    {
     "data": {
      "text/plain": [
       "13432"
      ]
     },
     "execution_count": 6,
     "metadata": {},
     "output_type": "execute_result"
    }
   ],
   "source": [
    "to_remove = value_counts[value_counts <= 10].index\n",
    "to_remove= [str(x) for x in list(to_remove)]\n",
    "len(value_counts) - len(to_remove)"
   ]
  },
  {
   "cell_type": "code",
   "execution_count": 8,
   "metadata": {
    "collapsed": true
   },
   "outputs": [],
   "source": [
    "words = set(df[\"words\"].unique()) - set(to_remove)\n",
    "words = list(words - set([\"pago\" , \"pagos\", \"factura\", \"facturas\", \"pago:\" , \"pagos:\", \"factura:\", \"facturas:\"]))"
   ]
  },
  {
   "cell_type": "code",
   "execution_count": 10,
   "metadata": {
    "collapsed": true
   },
   "outputs": [],
   "source": [
    "data_transactions[\"ref\"] = data_transactions[\"ref\"].astype('str')\n",
    "data_transactions[\"ref\"] = data_transactions[\"ref\"].apply(lambda x: ' '.join(str(e) for e in [word for word in str.split(x) if word in words]))\n",
    "data_transactions[\"ref\"] = data_transactions[\"ref\"].apply(lambda x: x.strip()) \n",
    "data_transactions[\"ref\"] = data_transactions[\"ref\"].replace({\"nan\":np.nan, '':np.nan})"
   ]
  },
  {
   "cell_type": "markdown",
   "metadata": {},
   "source": [
    "Una vez eliminadas las palabras deseadas se eliminan las transacciones que terminaron con el campo ref vacio al realizar este proceso. En este momento el dataset de transacciones queda con un total de 8'500 238, y se genera el dataset de transacciones que se usara para la clasificacion. "
   ]
  },
  {
   "cell_type": "code",
   "execution_count": 11,
   "metadata": {
    "collapsed": true
   },
   "outputs": [],
   "source": [
    "data_transactions[\"ref\"] = data_transactions[\"ref\"].replace({\"nan\":np.nan, '':np.nan}) \n",
    "data_transactions = data_transactions[(~data_transactions['ref'].isnull())]"
   ]
  },
  {
   "cell_type": "code",
   "execution_count": 12,
   "metadata": {},
   "outputs": [
    {
     "data": {
      "text/plain": [
       "85960570"
      ]
     },
     "execution_count": 12,
     "metadata": {},
     "output_type": "execute_result"
    }
   ],
   "source": [
    "data_transactions = data_transactions.reset_index(drop=True)"
   ]
  },
  {
   "cell_type": "code",
   "execution_count": 13,
   "metadata": {},
   "outputs": [
    {
     "data": {
      "text/plain": [
       "id_trn_ach       0.00000\n",
       "id_cliente       0.00000\n",
       "fecha            0.00000\n",
       "hora             0.00000\n",
       "valor_trx        0.00000\n",
       "sector          66.10290\n",
       "subsector       66.10290\n",
       "descripcion     66.10290\n",
       "descripcion2    99.81146\n",
       "ref              0.00000\n",
       "dtype: float64"
      ]
     },
     "execution_count": 13,
     "metadata": {},
     "output_type": "execute_result"
    }
   ],
   "source": [
    "data_transactions.to_pickle(\"./transactions_BC.pkl\")\n",
    "100*data_transactions.isnull().mean()"
   ]
  },
  {
   "cell_type": "code",
   "execution_count": null,
   "metadata": {
    "collapsed": true
   },
   "outputs": [],
   "source": []
  }
 ],
 "metadata": {
  "kernelspec": {
   "display_name": "Python 3",
   "language": "python",
   "name": "python3"
  },
  "language_info": {
   "codemirror_mode": {
    "name": "ipython",
    "version": 3
   },
   "file_extension": ".py",
   "mimetype": "text/x-python",
   "name": "python",
   "nbconvert_exporter": "python",
   "pygments_lexer": "ipython3",
   "version": "3.5.4"
  }
 },
 "nbformat": 4,
 "nbformat_minor": 2
}
