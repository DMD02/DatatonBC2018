{
 "cells": [
  {
   "cell_type": "markdown",
   "metadata": {},
   "source": [
    "# Limpieza Datos de los Clientes\n",
    "#### JJD-Predictors"
   ]
  },
  {
   "cell_type": "markdown",
   "metadata": {},
   "source": [
    "### Lectura y Adecuación de los datos."
   ]
  },
  {
   "cell_type": "markdown",
   "metadata": {},
   "source": [
    "Lectura de los datos como un DataFrame usando la libreria pandas. "
   ]
  },
  {
   "cell_type": "code",
   "execution_count": 81,
   "metadata": {},
   "outputs": [],
   "source": [
    "import pandas as pd\n",
    "import numpy as np\n",
    "%matplotlib inline\n",
    "\n",
    "metadata_clients = pd.read_excel(\"Metadatos_Tabla.xlsx\")\n",
    "data_clients = pd.read_csv(\"dt_info_pagadores_muestra.csv\", error_bad_lines = False, header=None)"
   ]
  },
  {
   "cell_type": "markdown",
   "metadata": {},
   "source": [
    "Creación de un diccionario con el nombre de las columnas para asignar al DataFrame.  "
   ]
  },
  {
   "cell_type": "code",
   "execution_count": 82,
   "metadata": {},
   "outputs": [],
   "source": [
    "dict_header = dict()\n",
    "list_header = list(metadata_clients.name)\n",
    "for i,element in enumerate(list_header):\n",
    "    dict_header[i] = element\n",
    "    \n",
    "data_clients = data_clients.rename(columns = dict_header)"
   ]
  },
  {
   "cell_type": "markdown",
   "metadata": {},
   "source": [
    "Creación de diccionarios para reemplazar los códigos de los clientes indicados con letras por su respectiva descripción (brindada por Bancolombia). En el caso de los ingresos, se tiene en cuenta que los datos corresponden a un rango dado, se decide asignar un valor numérico dentro de ese rango. "
   ]
  },
  {
   "cell_type": "code",
   "execution_count": 83,
   "metadata": {},
   "outputs": [],
   "source": [
    "dict_ocupacion = {\"E\": \"EMPLEADO_SOCIO\", \"I\":\"DESEMPLEADO_CON_INGRESOS\", \"O\":\"OTRA\", \"P\":\"INDEPENDIENTE\",\n",
    "                 \"S\": \"DESEMPLEADO_SIN_INGRESOS\", \"1\": \"EMPLEADO\", \"2\":\"ESTUDIANTE\", \"3\": \"INDEPENDIENTE\", \"4\":\"HOGAR\",\n",
    "                 \"5\": \"JUBILADO\", \"6\": \"AGRICULTOR\", \"7\":\"GANADERO\", \"8\":\"COMERCIANTE\", \"9\": \"RENTISTA_DE_CAPITAL\"}\n",
    "\n",
    "dict_tipo_vivienda={'A':'ALQUILADA','R':'ALQUILADA','F':'FAMILIAR','I':'NO_INFORMA','P':'PROPIA','O':'PROPIA'}\n",
    "\n",
    "dict_nivel_academico={'H':'BACHILLERATO','B':'BACHILLERATO','U':'UNIVERSITARIO','E':'ESPECIALIZACION',\n",
    "                      'N':'NINGUNO','P':'PRIMARIA','S':'POSTGRADO','T':'TECNICO','I':'NO_INFORMA'}\n",
    "                      \n",
    "dict_estado_civil = {\"S\": \"SOLTERO\", \"M\": \"CASADO\", \"F\":\"DESCONOCIDO\", \"I\": \"NO_INFORMA\", \"D\": \"DIVORCIADO\", \n",
    "                     \"W\": \"VIUDO\", \"O\": \"OTRO\" }\n",
    "\n",
    "dict_ingreso_rango = {\"a. (0  1.1MM]\": 1, \"b. (1.1  2.2MM]\": 1.5,  \"c. (2.2  3.3MM]\": 2.5,\"d. (3.3  4.4MM]\": 3.5,\n",
    "                      \"e. (4.4  5.5MM]\": 5, \"f. (5.5  6.6MM]\": 6, \"g. (6.6  7.6MM]\": 7, \"h. (7.6  8.7MM]\": 8, \n",
    "                      \"i. (8.7  Inf)\": 9}\n",
    "dict_ingreso_edad = {'\\\\N': 0}"
   ]
  },
  {
   "cell_type": "markdown",
   "metadata": {},
   "source": [
    "Asignación de los diccionarios respectivos para cada columna y mapeo de los valores del diccionario. "
   ]
  },
  {
   "cell_type": "code",
   "execution_count": 84,
   "metadata": {},
   "outputs": [],
   "source": [
    "data_clients[\"ocupacion\"] = data_clients[\"ocupacion\"].map(dict_ocupacion)\n",
    "data_clients[\"tipo_vivienda\"] = data_clients[\"tipo_vivienda\"].map(dict_tipo_vivienda)\n",
    "data_clients[\"nivel_academico\"] = data_clients[\"nivel_academico\"].map(dict_nivel_academico)\n",
    "data_clients[\"estado_civil\"] = data_clients[\"estado_civil\"].map(dict_estado_civil)\n",
    "data_clients[\"ingreso_rango\"] = data_clients[\"ingreso_rango\"].map(dict_ingreso_rango)\n",
    "data_clients[\"edad\"] = data_clients[\"edad\"].replace(dict_ingreso_edad)"
   ]
  },
  {
   "cell_type": "markdown",
   "metadata": {},
   "source": [
    "### Comprensión de los datos."
   ]
  },
  {
   "cell_type": "markdown",
   "metadata": {},
   "source": [
    "Se describe el dataset con la función *describe* de pandas, para obtener un análisis estadístico de los datos por columna (aplica para los valores numéricos) y un conteo de acuerdo a la frecuencia y valores únicos para todos los datos. "
   ]
  },
  {
   "cell_type": "code",
   "execution_count": 85,
   "metadata": {},
   "outputs": [
    {
     "data": {
      "text/html": [
       "<div>\n",
       "<style scoped>\n",
       "    .dataframe tbody tr th:only-of-type {\n",
       "        vertical-align: middle;\n",
       "    }\n",
       "\n",
       "    .dataframe tbody tr th {\n",
       "        vertical-align: top;\n",
       "    }\n",
       "\n",
       "    .dataframe thead th {\n",
       "        text-align: right;\n",
       "    }\n",
       "</style>\n",
       "<table border=\"1\" class=\"dataframe\">\n",
       "  <thead>\n",
       "    <tr style=\"text-align: right;\">\n",
       "      <th></th>\n",
       "      <th>id_cliente</th>\n",
       "      <th>seg_str</th>\n",
       "      <th>ocupacion</th>\n",
       "      <th>tipo_vivienda</th>\n",
       "      <th>nivel_academico</th>\n",
       "      <th>estado_civil</th>\n",
       "      <th>genero</th>\n",
       "      <th>edad</th>\n",
       "      <th>ingreso_rango</th>\n",
       "    </tr>\n",
       "  </thead>\n",
       "  <tbody>\n",
       "    <tr>\n",
       "      <th>count</th>\n",
       "      <td>338606.000000</td>\n",
       "      <td>338606</td>\n",
       "      <td>331769</td>\n",
       "      <td>166386</td>\n",
       "      <td>294313</td>\n",
       "      <td>332006</td>\n",
       "      <td>332897</td>\n",
       "      <td>338606</td>\n",
       "      <td>331222.000000</td>\n",
       "    </tr>\n",
       "    <tr>\n",
       "      <th>unique</th>\n",
       "      <td>NaN</td>\n",
       "      <td>5</td>\n",
       "      <td>13</td>\n",
       "      <td>4</td>\n",
       "      <td>8</td>\n",
       "      <td>7</td>\n",
       "      <td>2</td>\n",
       "      <td>109</td>\n",
       "      <td>NaN</td>\n",
       "    </tr>\n",
       "    <tr>\n",
       "      <th>top</th>\n",
       "      <td>NaN</td>\n",
       "      <td>PERSONAL</td>\n",
       "      <td>EMPLEADO</td>\n",
       "      <td>FAMILIAR</td>\n",
       "      <td>UNIVERSITARIO</td>\n",
       "      <td>SOLTERO</td>\n",
       "      <td>F</td>\n",
       "      <td>29</td>\n",
       "      <td>NaN</td>\n",
       "    </tr>\n",
       "    <tr>\n",
       "      <th>freq</th>\n",
       "      <td>NaN</td>\n",
       "      <td>233568</td>\n",
       "      <td>210488</td>\n",
       "      <td>83736</td>\n",
       "      <td>135754</td>\n",
       "      <td>175878</td>\n",
       "      <td>169336</td>\n",
       "      <td>14001</td>\n",
       "      <td>NaN</td>\n",
       "    </tr>\n",
       "    <tr>\n",
       "      <th>mean</th>\n",
       "      <td>169303.500000</td>\n",
       "      <td>NaN</td>\n",
       "      <td>NaN</td>\n",
       "      <td>NaN</td>\n",
       "      <td>NaN</td>\n",
       "      <td>NaN</td>\n",
       "      <td>NaN</td>\n",
       "      <td>NaN</td>\n",
       "      <td>3.433593</td>\n",
       "    </tr>\n",
       "    <tr>\n",
       "      <th>std</th>\n",
       "      <td>97747.276962</td>\n",
       "      <td>NaN</td>\n",
       "      <td>NaN</td>\n",
       "      <td>NaN</td>\n",
       "      <td>NaN</td>\n",
       "      <td>NaN</td>\n",
       "      <td>NaN</td>\n",
       "      <td>NaN</td>\n",
       "      <td>2.669391</td>\n",
       "    </tr>\n",
       "    <tr>\n",
       "      <th>min</th>\n",
       "      <td>1.000000</td>\n",
       "      <td>NaN</td>\n",
       "      <td>NaN</td>\n",
       "      <td>NaN</td>\n",
       "      <td>NaN</td>\n",
       "      <td>NaN</td>\n",
       "      <td>NaN</td>\n",
       "      <td>NaN</td>\n",
       "      <td>1.000000</td>\n",
       "    </tr>\n",
       "    <tr>\n",
       "      <th>25%</th>\n",
       "      <td>84652.250000</td>\n",
       "      <td>NaN</td>\n",
       "      <td>NaN</td>\n",
       "      <td>NaN</td>\n",
       "      <td>NaN</td>\n",
       "      <td>NaN</td>\n",
       "      <td>NaN</td>\n",
       "      <td>NaN</td>\n",
       "      <td>1.500000</td>\n",
       "    </tr>\n",
       "    <tr>\n",
       "      <th>50%</th>\n",
       "      <td>169303.500000</td>\n",
       "      <td>NaN</td>\n",
       "      <td>NaN</td>\n",
       "      <td>NaN</td>\n",
       "      <td>NaN</td>\n",
       "      <td>NaN</td>\n",
       "      <td>NaN</td>\n",
       "      <td>NaN</td>\n",
       "      <td>2.500000</td>\n",
       "    </tr>\n",
       "    <tr>\n",
       "      <th>75%</th>\n",
       "      <td>253954.750000</td>\n",
       "      <td>NaN</td>\n",
       "      <td>NaN</td>\n",
       "      <td>NaN</td>\n",
       "      <td>NaN</td>\n",
       "      <td>NaN</td>\n",
       "      <td>NaN</td>\n",
       "      <td>NaN</td>\n",
       "      <td>5.000000</td>\n",
       "    </tr>\n",
       "    <tr>\n",
       "      <th>max</th>\n",
       "      <td>338606.000000</td>\n",
       "      <td>NaN</td>\n",
       "      <td>NaN</td>\n",
       "      <td>NaN</td>\n",
       "      <td>NaN</td>\n",
       "      <td>NaN</td>\n",
       "      <td>NaN</td>\n",
       "      <td>NaN</td>\n",
       "      <td>9.000000</td>\n",
       "    </tr>\n",
       "  </tbody>\n",
       "</table>\n",
       "</div>"
      ],
      "text/plain": [
       "           id_cliente   seg_str ocupacion tipo_vivienda nivel_academico  \\\n",
       "count   338606.000000    338606    331769        166386          294313   \n",
       "unique            NaN         5        13             4               8   \n",
       "top               NaN  PERSONAL  EMPLEADO      FAMILIAR   UNIVERSITARIO   \n",
       "freq              NaN    233568    210488         83736          135754   \n",
       "mean    169303.500000       NaN       NaN           NaN             NaN   \n",
       "std      97747.276962       NaN       NaN           NaN             NaN   \n",
       "min          1.000000       NaN       NaN           NaN             NaN   \n",
       "25%      84652.250000       NaN       NaN           NaN             NaN   \n",
       "50%     169303.500000       NaN       NaN           NaN             NaN   \n",
       "75%     253954.750000       NaN       NaN           NaN             NaN   \n",
       "max     338606.000000       NaN       NaN           NaN             NaN   \n",
       "\n",
       "       estado_civil  genero    edad  ingreso_rango  \n",
       "count        332006  332897  338606  331222.000000  \n",
       "unique            7       2     109            NaN  \n",
       "top         SOLTERO       F      29            NaN  \n",
       "freq         175878  169336   14001            NaN  \n",
       "mean            NaN     NaN     NaN       3.433593  \n",
       "std             NaN     NaN     NaN       2.669391  \n",
       "min             NaN     NaN     NaN       1.000000  \n",
       "25%             NaN     NaN     NaN       1.500000  \n",
       "50%             NaN     NaN     NaN       2.500000  \n",
       "75%             NaN     NaN     NaN       5.000000  \n",
       "max             NaN     NaN     NaN       9.000000  "
      ]
     },
     "execution_count": 85,
     "metadata": {},
     "output_type": "execute_result"
    }
   ],
   "source": [
    "data_clients.describe(include='all')"
   ]
  },
  {
   "cell_type": "markdown",
   "metadata": {},
   "source": [
    "Se determina el promedio de datos nulos por columna en el conjunto de datos."
   ]
  },
  {
   "cell_type": "code",
   "execution_count": 86,
   "metadata": {},
   "outputs": [
    {
     "data": {
      "text/plain": [
       "id_cliente          0.000000\n",
       "seg_str             0.000000\n",
       "ocupacion           2.019161\n",
       "tipo_vivienda      50.861473\n",
       "nivel_academico    13.080985\n",
       "estado_civil        1.949168\n",
       "genero              1.686030\n",
       "edad                0.000000\n",
       "ingreso_rango       2.180706\n",
       "dtype: float64"
      ]
     },
     "execution_count": 86,
     "metadata": {},
     "output_type": "execute_result"
    }
   ],
   "source": [
    "100*data_clients.isnull().mean()"
   ]
  },
  {
   "cell_type": "markdown",
   "metadata": {},
   "source": [
    "Se realizan histogramas para cada una de las columnas para ver el número de clientes por categoría y aquellos datos no disponibles."
   ]
  },
  {
   "cell_type": "code",
   "execution_count": 87,
   "metadata": {},
   "outputs": [
    {
     "data": {
      "text/plain": [
       "<matplotlib.axes._subplots.AxesSubplot at 0x12da8d8d0>"
      ]
     },
     "execution_count": 87,
     "metadata": {},
     "output_type": "execute_result"
    },
    {
     "data": {
      "image/png": "[encoded data removed]",
      "text/plain": [
       "<Figure size 432x288 with 1 Axes>"
      ]
     },
     "metadata": {},
     "output_type": "display_data"
    }
   ],
   "source": [
    "data_clients[\"seg_str\"].replace({None:\"NaN\"}).value_counts().plot(kind='bar')"
   ]
  },
  {
   "cell_type": "code",
   "execution_count": 88,
   "metadata": {},
   "outputs": [
    {
     "data": {
      "text/plain": [
       "<matplotlib.axes._subplots.AxesSubplot at 0x12db7c550>"
      ]
     },
     "execution_count": 88,
     "metadata": {},
     "output_type": "execute_result"
    },
    {
     "data": {
      "image/png": "[encoded data removed]",
      "text/plain": [
       "<Figure size 432x288 with 1 Axes>"
      ]
     },
     "metadata": {},
     "output_type": "display_data"
    }
   ],
   "source": [
    "data_clients[\"ocupacion\"].replace({None:\"NaN\"}).value_counts().plot(kind='bar')"
   ]
  },
  {
   "cell_type": "code",
   "execution_count": 89,
   "metadata": {},
   "outputs": [
    {
     "data": {
      "text/plain": [
       "<matplotlib.axes._subplots.AxesSubplot at 0x12da83e10>"
      ]
     },
     "execution_count": 89,
     "metadata": {},
     "output_type": "execute_result"
    },
    {
     "data": {
      "image/png": "[encoded data removed]",
      "text/plain": [
       "<Figure size 432x288 with 1 Axes>"
      ]
     },
     "metadata": {},
     "output_type": "display_data"
    }
   ],
   "source": [
    "data_clients[\"tipo_vivienda\"].replace({None:\"NaN\"}).value_counts().plot(kind='bar')"
   ]
  },
  {
   "cell_type": "code",
   "execution_count": 90,
   "metadata": {},
   "outputs": [
    {
     "data": {
      "text/plain": [
       "<matplotlib.axes._subplots.AxesSubplot at 0x12201dd50>"
      ]
     },
     "execution_count": 90,
     "metadata": {},
     "output_type": "execute_result"
    },
    {
     "data": {
      "image/png": "[encoded data removed]",
      "text/plain": [
       "<Figure size 432x288 with 1 Axes>"
      ]
     },
     "metadata": {},
     "output_type": "display_data"
    }
   ],
   "source": [
    "data_clients[\"nivel_academico\"].replace({None:\"NaN\"}).value_counts().plot(kind='bar')"
   ]
  },
  {
   "cell_type": "code",
   "execution_count": 91,
   "metadata": {},
   "outputs": [
    {
     "data": {
      "text/plain": [
       "<matplotlib.axes._subplots.AxesSubplot at 0x122070350>"
      ]
     },
     "execution_count": 91,
     "metadata": {},
     "output_type": "execute_result"
    },
    {
     "data": {
      "image/png": "[encoded data removed]",
      "text/plain": [
       "<Figure size 432x288 with 1 Axes>"
      ]
     },
     "metadata": {},
     "output_type": "display_data"
    }
   ],
   "source": [
    "data_clients[\"estado_civil\"].replace({None:\"NaN\"}).value_counts().plot(kind='bar')"
   ]
  },
  {
   "cell_type": "code",
   "execution_count": 92,
   "metadata": {},
   "outputs": [
    {
     "data": {
      "text/plain": [
       "<matplotlib.axes._subplots.AxesSubplot at 0x1221f0f50>"
      ]
     },
     "execution_count": 92,
     "metadata": {},
     "output_type": "execute_result"
    },
    {
     "data": {
      "image/png": "[encoded data removed]",
      "text/plain": [
       "<Figure size 432x288 with 1 Axes>"
      ]
     },
     "metadata": {},
     "output_type": "display_data"
    }
   ],
   "source": [
    "data_clients[\"genero\"].replace({None:\"NaN\"}).value_counts().plot(kind='bar')"
   ]
  },
  {
   "cell_type": "code",
   "execution_count": 93,
   "metadata": {},
   "outputs": [
    {
     "data": {
      "text/plain": [
       "<matplotlib.axes._subplots.AxesSubplot at 0x1222fcc90>"
      ]
     },
     "execution_count": 93,
     "metadata": {},
     "output_type": "execute_result"
    },
    {
     "data": {
      "image/png": "[encoded data removed]",
      "text/plain": [
       "<Figure size 432x288 with 1 Axes>"
      ]
     },
     "metadata": {},
     "output_type": "display_data"
    }
   ],
   "source": [
    "data_clients[\"ingreso_rango\"].replace({None:\"NaN\"}).value_counts().plot(kind='bar')"
   ]
  },
  {
   "cell_type": "code",
   "execution_count": 94,
   "metadata": {},
   "outputs": [
    {
     "data": {
      "text/plain": [
       "<matplotlib.axes._subplots.AxesSubplot at 0x1224ab290>"
      ]
     },
     "execution_count": 94,
     "metadata": {},
     "output_type": "execute_result"
    },
    {
     "data": {
      "image/png": "[encoded data removed]",
      "text/plain": [
       "<Figure size 1296x360 with 1 Axes>"
      ]
     },
     "metadata": {},
     "output_type": "display_data"
    }
   ],
   "source": [
    "data_clients[\"edad\"].replace({None:\"NaN\"}).value_counts(sort=True).plot(kind='bar',figsize = (18,5),stacked=True,sort_columns=True,xlim=[0,150])"
   ]
  },
  {
   "cell_type": "markdown",
   "metadata": {},
   "source": [
    "Para los datos de la edad se hizo un filtro para eliminar aquellas personas con edad menor a 10 y mayor a 100, convirtiendo los valores a datos nulos. "
   ]
  },
  {
   "cell_type": "code",
   "execution_count": 95,
   "metadata": {},
   "outputs": [],
   "source": [
    "data_clients[\"edad\"] = data_clients[\"edad\"].astype('int')\n",
    "data_clients[\"edad\"] = data_clients[\"edad\"].apply(lambda x: np.nan if x <= 10 else x)\n",
    "data_clients[\"edad\"] = data_clients[\"edad\"].apply(lambda x: np.nan if x >= 100 else x)"
   ]
  },
  {
   "cell_type": "code",
   "execution_count": 96,
   "metadata": {},
   "outputs": [
    {
     "data": {
      "text/plain": [
       "<matplotlib.axes._subplots.AxesSubplot at 0x12257d490>"
      ]
     },
     "execution_count": 96,
     "metadata": {},
     "output_type": "execute_result"
    },
    {
     "data": {
      "image/png": "[encoded data removed]",
      "text/plain": [
       "<Figure size 1296x360 with 1 Axes>"
      ]
     },
     "metadata": {},
     "output_type": "display_data"
    }
   ],
   "source": [
    "data_clients[\"edad\"].dropna().value_counts(bins=20,sort=False).plot(kind='bar',figsize = (18,5))"
   ]
  },
  {
   "cell_type": "markdown",
   "metadata": {},
   "source": [
    "Las columnas en las cuales el porcentaje de valores nulos supera el 50%, se eliminaron del conjunto de datos."
   ]
  },
  {
   "cell_type": "code",
   "execution_count": 17,
   "metadata": {
    "collapsed": true
   },
   "outputs": [],
   "source": [
    "data_clients = data_clients.loc[:, data_clients.isnull().mean() < .5]"
   ]
  },
  {
   "cell_type": "markdown",
   "metadata": {},
   "source": [
    "A continuación se muestran las columnas que quedan para el análisis posterior y el conteo de datos no nulos por cada una. "
   ]
  },
  {
   "cell_type": "code",
   "execution_count": 18,
   "metadata": {},
   "outputs": [
    {
     "data": {
      "text/plain": [
       "id_cliente          0.000000\n",
       "seg_str             0.000000\n",
       "ocupacion           2.019161\n",
       "nivel_academico    13.080985\n",
       "estado_civil        1.949168\n",
       "genero              1.686030\n",
       "edad                2.591803\n",
       "ingreso_rango       2.180706\n",
       "dtype: float64"
      ]
     },
     "execution_count": 18,
     "metadata": {},
     "output_type": "execute_result"
    }
   ],
   "source": [
    "100*data_clients.isnull().mean()"
   ]
  },
  {
   "cell_type": "code",
   "execution_count": 19,
   "metadata": {},
   "outputs": [
    {
     "data": {
      "text/plain": [
       "id_cliente         338606\n",
       "seg_str            338606\n",
       "ocupacion          331769\n",
       "nivel_academico    294313\n",
       "estado_civil       332006\n",
       "genero             332897\n",
       "edad               329830\n",
       "ingreso_rango      331222\n",
       "dtype: int64"
      ]
     },
     "execution_count": 19,
     "metadata": {},
     "output_type": "execute_result"
    }
   ],
   "source": [
    "data_clients.count()"
   ]
  },
  {
   "cell_type": "markdown",
   "metadata": {},
   "source": [
    "Se eliminan las columnas con más de seis valores nulos en una fila y se vuelve a hacer el conteo de datos disponibles."
   ]
  },
  {
   "cell_type": "code",
   "execution_count": 99,
   "metadata": {},
   "outputs": [],
   "source": [
    "data_clients = data_clients.dropna(thresh=6)"
   ]
  },
  {
   "cell_type": "code",
   "execution_count": 100,
   "metadata": {},
   "outputs": [
    {
     "data": {
      "text/plain": [
       "id_cliente         332394\n",
       "seg_str            332394\n",
       "ocupacion          331555\n",
       "tipo_vivienda      166386\n",
       "nivel_academico    294311\n",
       "estado_civil       331039\n",
       "genero             332388\n",
       "edad               329539\n",
       "ingreso_rango      325872\n",
       "dtype: int64"
      ]
     },
     "execution_count": 100,
     "metadata": {},
     "output_type": "execute_result"
    }
   ],
   "source": [
    "data_clients.count()"
   ]
  },
  {
   "cell_type": "markdown",
   "metadata": {},
   "source": [
    "Se agrupan los datos por nivel académico y se observa el ingreso promedio por cada grupo. Se observa que aquellos con nivel académico mayor son los que tienen un ingreso mayor. "
   ]
  },
  {
   "cell_type": "code",
   "execution_count": 101,
   "metadata": {},
   "outputs": [
    {
     "data": {
      "text/plain": [
       "nivel_academico\n",
       "BACHILLERATO       2.801065\n",
       "ESPECIALIZACION    5.296444\n",
       "NINGUNO            2.683619\n",
       "NO_INFORMA         2.497246\n",
       "POSTGRADO          5.806143\n",
       "PRIMARIA           2.842115\n",
       "TECNICO            2.572288\n",
       "UNIVERSITARIO      3.950957\n",
       "Name: ingreso_rango, dtype: float64"
      ]
     },
     "execution_count": 101,
     "metadata": {},
     "output_type": "execute_result"
    }
   ],
   "source": [
    "data_clients.groupby(\"nivel_academico\")[\"ingreso_rango\"].mean()"
   ]
  },
  {
   "cell_type": "markdown",
   "metadata": {},
   "source": [
    "Se eliminan los datos que no contienen información de rango, género y edad."
   ]
  },
  {
   "cell_type": "code",
   "execution_count": 102,
   "metadata": {},
   "outputs": [],
   "source": [
    "data_clients = data_clients[~data_clients['ingreso_rango'].isnull()]\n",
    "data_clients = data_clients[~data_clients['edad'].isnull()]\n",
    "data_clients = data_clients[~data_clients['genero'].isnull()]"
   ]
  },
  {
   "cell_type": "code",
   "execution_count": 103,
   "metadata": {},
   "outputs": [
    {
     "data": {
      "text/plain": [
       "id_cliente          0.000000\n",
       "seg_str             0.000000\n",
       "ocupacion           0.259054\n",
       "tipo_vivienda      49.254872\n",
       "nivel_academico    11.130954\n",
       "estado_civil        0.419376\n",
       "genero              0.000000\n",
       "edad                0.000000\n",
       "ingreso_rango       0.000000\n",
       "dtype: float64"
      ]
     },
     "execution_count": 103,
     "metadata": {},
     "output_type": "execute_result"
    }
   ],
   "source": [
    "100*data_clients.isnull().mean()"
   ]
  },
  {
   "cell_type": "markdown",
   "metadata": {},
   "source": [
    "Se guardan los datos limpios en un archivo pkl y csv para leerlos en los otros notebook. "
   ]
  },
  {
   "cell_type": "code",
   "execution_count": 26,
   "metadata": {
    "collapsed": true
   },
   "outputs": [],
   "source": [
    "data_clients.to_pickle(\"./data_clients.pkl\")\n",
    "data_clients.to_csv(\"./data_clients.csv\")"
   ]
  }
 ],
 "metadata": {
  "kernelspec": {
   "display_name": "Python 3",
   "language": "python",
   "name": "python3"
  },
  "language_info": {
   "codemirror_mode": {
    "name": "ipython",
    "version": 2
   },
   "file_extension": ".py",
   "mimetype": "text/x-python",
   "name": "python",
   "nbconvert_exporter": "python",
   "pygments_lexer": "ipython2",
   "version": "2.7.15"
  }
 },
 "nbformat": 4,
 "nbformat_minor": 2
}
