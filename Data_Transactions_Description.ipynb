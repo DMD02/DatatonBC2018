{
 "cells": [
  {
   "cell_type": "code",
   "execution_count": 3,
   "metadata": {
    "collapsed": true
   },
   "outputs": [],
   "source": [
    "import pandas as pd\n",
    "metada_transactions = pd.read_excel(\"Metadatos_Tabla2.xlsx\")\n",
    "data_transactions = pd.read_csv(\"dt_trxpse_personas_2016_2018_muestra_adjt.csv\", error_bad_lines = False, warn_bad_lines = False, header=None)"
   ]
  },
  {
   "cell_type": "code",
   "execution_count": 5,
   "metadata": {},
   "outputs": [
    {
     "data": {
      "text/html": [
       "<div>\n",
       "<style>\n",
       "    .dataframe thead tr:only-child th {\n",
       "        text-align: right;\n",
       "    }\n",
       "\n",
       "    .dataframe thead th {\n",
       "        text-align: left;\n",
       "    }\n",
       "\n",
       "    .dataframe tbody tr th {\n",
       "        vertical-align: top;\n",
       "    }\n",
       "</style>\n",
       "<table border=\"1\" class=\"dataframe\">\n",
       "  <thead>\n",
       "    <tr style=\"text-align: right;\">\n",
       "      <th></th>\n",
       "      <th>name</th>\n",
       "      <th>type</th>\n",
       "      <th>comment</th>\n",
       "    </tr>\n",
       "  </thead>\n",
       "  <tbody>\n",
       "    <tr>\n",
       "      <th>0</th>\n",
       "      <td>id_trn_ach</td>\n",
       "      <td>string</td>\n",
       "      <td>NaN</td>\n",
       "    </tr>\n",
       "    <tr>\n",
       "      <th>1</th>\n",
       "      <td>id_cliente</td>\n",
       "      <td>bigint</td>\n",
       "      <td>NaN</td>\n",
       "    </tr>\n",
       "    <tr>\n",
       "      <th>2</th>\n",
       "      <td>fecha</td>\n",
       "      <td>decimal(8,0)</td>\n",
       "      <td>NaN</td>\n",
       "    </tr>\n",
       "    <tr>\n",
       "      <th>3</th>\n",
       "      <td>hora</td>\n",
       "      <td>decimal(6,0)</td>\n",
       "      <td>NaN</td>\n",
       "    </tr>\n",
       "    <tr>\n",
       "      <th>4</th>\n",
       "      <td>valor_trx</td>\n",
       "      <td>double</td>\n",
       "      <td>NaN</td>\n",
       "    </tr>\n",
       "    <tr>\n",
       "      <th>5</th>\n",
       "      <td>ref1</td>\n",
       "      <td>string</td>\n",
       "      <td>NaN</td>\n",
       "    </tr>\n",
       "    <tr>\n",
       "      <th>6</th>\n",
       "      <td>ref2</td>\n",
       "      <td>string</td>\n",
       "      <td>NaN</td>\n",
       "    </tr>\n",
       "    <tr>\n",
       "      <th>7</th>\n",
       "      <td>ref3</td>\n",
       "      <td>string</td>\n",
       "      <td>NaN</td>\n",
       "    </tr>\n",
       "    <tr>\n",
       "      <th>8</th>\n",
       "      <td>sector</td>\n",
       "      <td>varchar(24)</td>\n",
       "      <td>NaN</td>\n",
       "    </tr>\n",
       "    <tr>\n",
       "      <th>9</th>\n",
       "      <td>subsector</td>\n",
       "      <td>varchar(62)</td>\n",
       "      <td>NaN</td>\n",
       "    </tr>\n",
       "    <tr>\n",
       "      <th>10</th>\n",
       "      <td>descripcion</td>\n",
       "      <td>varchar(175)</td>\n",
       "      <td>NaN</td>\n",
       "    </tr>\n",
       "  </tbody>\n",
       "</table>\n",
       "</div>"
      ],
      "text/plain": [
       "           name          type  comment\n",
       "0    id_trn_ach        string      NaN\n",
       "1    id_cliente        bigint      NaN\n",
       "2         fecha  decimal(8,0)      NaN\n",
       "3          hora  decimal(6,0)      NaN\n",
       "4     valor_trx        double      NaN\n",
       "5          ref1        string      NaN\n",
       "6          ref2        string      NaN\n",
       "7          ref3        string      NaN\n",
       "8        sector   varchar(24)      NaN\n",
       "9     subsector   varchar(62)      NaN\n",
       "10  descripcion  varchar(175)      NaN"
      ]
     },
     "execution_count": 5,
     "metadata": {},
     "output_type": "execute_result"
    }
   ],
   "source": [
    "metada_transactions"
   ]
  },
  {
   "cell_type": "code",
   "execution_count": 7,
   "metadata": {},
   "outputs": [],
   "source": [
    "dict_header = dict()\n",
    "list_header = list(metada_transactions.name)\n",
    "for i,element in enumerate(list_header):\n",
    "    dict_header[i] = element\n",
    "    \n",
    "data_transactions = data_transactions.rename(columns = dict_header)"
   ]
  },
  {
   "cell_type": "code",
   "execution_count": 58,
   "metadata": {},
   "outputs": [],
   "source": [
    "data_transactions[\"fecha\"] = pd.to_datetime(data_transactions[\"fecha\"], format=\"%Y%m%d\", errors = 'ignore')"
   ]
  },
  {
   "cell_type": "code",
   "execution_count": 38,
   "metadata": {},
   "outputs": [],
   "source": [
    "data_transactions[\"hora\"] = data_transactions[\"hora\"].astype('str')\n",
    "data_transactions[\"hora\"] = data_transactions[\"hora\"].apply(lambda x : '0'*(6 - len(x)) + x)\n",
    "data_transactions[\"hora\"] = data_transactions[\"hora\"].apply(lambda x : x[:2] + \":\" + x[2:4])"
   ]
  },
  {
   "cell_type": "code",
   "execution_count": 71,
   "metadata": {},
   "outputs": [],
   "source": [
    "data_transactions = data_transactions.drop([\"ref3\"], axis = 1)"
   ]
  },
  {
   "cell_type": "code",
   "execution_count": 85,
   "metadata": {},
   "outputs": [
    {
     "data": {
      "text/plain": [
       "CC                                       141984\n",
       "BancoomevaPFA                             61201\n",
       "Pago de obligacion:                       18052\n",
       "TPNI                                       4460\n",
       "BancoomevaPTC                              4150\n",
       "NIT                                        3304\n",
       "cc                                         1755\n",
       "CEDULA DE CIUDADANIA                       1462\n",
       "Natural                                    1035\n",
       "CE                                         1003\n",
       "A                                           322\n",
       "B                                           285\n",
       "C                                           250\n",
       "error                                       248\n",
       "c                                            57\n",
       "P                                            55\n",
       "D                                            54\n",
       "TI                                           53\n",
       "alberto garcia                               53\n",
       "a                                            41\n",
       "Diego M Rodr                                 41\n",
       "RC                                           40\n",
       "b                                            38\n",
       "T APTO                                       37\n",
       "NUIP                                         33\n",
       "anibal osorio                                33\n",
       "torre                                        33\n",
       "LEON B JUAN E                                32\n",
       "Gimnasio                                     32\n",
       "piedad isaza v                               31\n",
       "                                          ...  \n",
       "luis bermudez v                               1\n",
       "LUIS GUILLERMO MEJIA CUOTA ANUAL              1\n",
       "Yenny paola tobar                             1\n",
       "Yuliana Valencia                              1\n",
       "Juliana Si                                    1\n",
       "Alejandro Casta                               1\n",
       "MARIA ELVIA LINARES                           1\n",
       "DIANA CRISTINA BEDOY ANTONIA RAMI             1\n",
       "jenny rojas pago total                        1\n",
       "Francisco Ramirez                             1\n",
       "Diego Patino                                  1\n",
       "Uno                                           1\n",
       "CLAUDIA HERNANDEZ SEPT                        1\n",
       "sindy marcela lopez pago estudio              1\n",
       "sebastian ramir junio                         1\n",
       "::e:b:adb:b:bb:fdb  CC                        1\n",
       "eduardo augusto                               1\n",
       "Gloria Neira                                  1\n",
       "Mariela Quin                                  1\n",
       "JuanS ReyesP Mensualidad                      1\n",
       "LUISA MARGARITA  ESTEBAN PEREZ FRANCE         1\n",
       "ANDERSON AGUDELO GABRIELA AGU                 1\n",
       "NANCY RODRGUEZ                                1\n",
       "JOHN F SUAREZ CR AP SEG                       1\n",
       "fredy mendoz                                  1\n",
       "Jorge Ignac                                   1\n",
       "MiguelMoreno                                  1\n",
       "Luis Rave                                     1\n",
       "TPNI  humberto vega ordoñez                   1\n",
       "DioselinaMillan Cuotasept                     1\n",
       "Name: ref2, Length: 4935, dtype: int64"
      ]
     },
     "execution_count": 85,
     "metadata": {},
     "output_type": "execute_result"
    }
   ],
   "source": [
    "df_sector = data_transactions.groupby([\"sector\"])\n",
    "df_sector.get_group(\"SERVICIOS FINANCIEROS\").ref2.value_counts()"
   ]
  },
  {
   "cell_type": "code",
   "execution_count": 77,
   "metadata": {},
   "outputs": [
    {
     "data": {
      "text/plain": [
       "array(['\\\\N', 'SERVICIOS FINANCIEROS', 'GOBIERNO',\n",
       "       'MEDIOS DE COMUNICACION', 'RECURSOS NATURALES',\n",
       "       'SERVICIOS NO FINANCIEROS', 'CONSTRUCCION', 'COMERCIO', nan,\n",
       "       'PERSONAS', 'MANUFACTURA INSUMOS', 'AGROINDUSTRIA'], dtype=object)"
      ]
     },
     "execution_count": 77,
     "metadata": {},
     "output_type": "execute_result"
    }
   ],
   "source": [
    "data_transactions[\"sector\"].unique()"
   ]
  },
  {
   "cell_type": "code",
   "execution_count": null,
   "metadata": {
    "collapsed": true
   },
   "outputs": [],
   "source": []
  }
 ],
 "metadata": {
  "kernelspec": {
   "display_name": "Python [conda env:myenv]",
   "language": "python",
   "name": "conda-env-myenv-py"
  },
  "language_info": {
   "codemirror_mode": {
    "name": "ipython",
    "version": 3
   },
   "file_extension": ".py",
   "mimetype": "text/x-python",
   "name": "python",
   "nbconvert_exporter": "python",
   "pygments_lexer": "ipython3",
   "version": "3.5.4"
  }
 },
 "nbformat": 4,
 "nbformat_minor": 2
}
